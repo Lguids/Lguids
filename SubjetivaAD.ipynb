{
  "nbformat": 4,
  "nbformat_minor": 0,
  "metadata": {
    "colab": {
      "provenance": [],
      "authorship_tag": "ABX9TyPnmdLK3KcTK3bUyUmjqug7",
      "include_colab_link": true
    },
    "kernelspec": {
      "name": "python3",
      "display_name": "Python 3"
    },
    "language_info": {
      "name": "python"
    }
  },
  "cells": [
    {
      "cell_type": "markdown",
      "metadata": {
        "id": "view-in-github",
        "colab_type": "text"
      },
      "source": [
        "<a href=\"https://colab.research.google.com/github/Lguids/Lguids/blob/main/SubjetivaAD.ipynb\" target=\"_parent\"><img src=\"https://colab.research.google.com/assets/colab-badge.svg\" alt=\"Open In Colab\"/></a>"
      ]
    },
    {
      "cell_type": "code",
      "execution_count": 5,
      "metadata": {
        "colab": {
          "base_uri": "https://localhost:8080/"
        },
        "id": "P4ph-Jt1-wJP",
        "outputId": "3b5797c1-7fbe-45bb-96c7-cb5d3d424797"
      },
      "outputs": [
        {
          "output_type": "stream",
          "name": "stdout",
          "text": [
            "Digite quanto custa sua hora de trabalho: 15\n",
            "Digite a quantidade de horas trabalhadas no mês: 220\n",
            "Salário Bruto: (15.00 * 220)         : R$ 3300.00\n",
            "(-) IR (20%)                      : R$ 660.00\n",
            "(-) INSS (10%)                       : R$ 330.00\n",
            "FGTS (11%)                           : R$ 363.00\n",
            "Total de descontos                   : R$ 990.00\n",
            "Salário Liquido                      : R$ 2310.00\n"
          ]
        }
      ],
      "source": [
        "def calcular_folha_pagamento(valor_hora, horas_trabalhadas):\n",
        "    salario_bruto = valor_hora * horas_trabalhadas\n",
        "\n",
        "    # Cálculo do desconto do Imposto de Renda\n",
        "    if salario_bruto <= 900:\n",
        "        ir_percentual = 0\n",
        "    elif salario_bruto <= 1500:\n",
        "        ir_percentual = 0.05\n",
        "    elif salario_bruto <= 2500:\n",
        "        ir_percentual = 0.1\n",
        "    else:\n",
        "        ir_percentual = 0.2\n",
        "\n",
        "    desconto_ir = salario_bruto * ir_percentual\n",
        "\n",
        "    # Cálculo do desconto do INSS (10% fixo)\n",
        "    desconto_inss = salario_bruto * 0.1\n",
        "\n",
        "    # Cálculo do FGTS (11% do Salário Bruto)\n",
        "    fgts = salario_bruto * 0.11\n",
        "\n",
        "    # Total de descontos\n",
        "    total_descontos = desconto_ir + desconto_inss\n",
        "\n",
        "    # Salário Líquido\n",
        "    salario_liquido = salario_bruto - total_descontos\n",
        "\n",
        "    # Imprimir informações na tela\n",
        "    print(\"Salário Bruto: ({:.2f} * {})         : R$ {:.2f}\".format(valor_hora, horas_trabalhadas, salario_bruto))\n",
        "    print(\"(-) IR ({:.0f}%)                      : R$ {:.2f}\".format(ir_percentual * 100, desconto_ir))\n",
        "    print(\"(-) INSS (10%)                       : R$ {:.2f}\".format(desconto_inss))\n",
        "    print(\"FGTS (11%)                           : R$ {:.2f}\".format(fgts))\n",
        "    print(\"Total de descontos                   : R$ {:.2f}\".format(total_descontos))\n",
        "    print(\"Salário Liquido                      : R$ {:.2f}\".format(salario_liquido))\n",
        "\n",
        "# Solicitar entrada do usuário\n",
        "valor_hora = float(input(\"Digite quanto custa sua hora de trabalho: \"))\n",
        "horas_trabalhadas = int(input(\"Digite a quantidade de horas trabalhadas no mês: \"))\n",
        "\n",
        "# Calcular folha de pagamento e imprimir resultados\n",
        "calcular_folha_pagamento(valor_hora, horas_trabalhadas)\n"
      ]
    }
  ]
}